{
  "nbformat": 4,
  "nbformat_minor": 0,
  "metadata": {
    "colab": {
      "name": "Data Cleaning( Name Changing and jpg verification)",
      "provenance": [],
      "collapsed_sections": []
    },
    "kernelspec": {
      "name": "python3",
      "display_name": "Python 3"
    },
    "language_info": {
      "name": "python"
    }
  },
  "cells": [
    {
      "cell_type": "code",
      "execution_count": null,
      "metadata": {
        "id": "qDBZMnvdvWK0"
      },
      "outputs": [],
      "source": [
        "\n"
      ]
    },
    {
      "cell_type": "code",
      "source": [
        "import os\n",
        "import pandas as pd\n",
        "from torchvision.io import read_image\n",
        "\n"
      ],
      "metadata": {
        "id": "ZwyFxScMj7Tw"
      },
      "execution_count": null,
      "outputs": []
    },
    {
      "cell_type": "code",
      "execution_count": null,
      "metadata": {
        "id": "t27P6r3Wu5NN"
      },
      "outputs": [],
      "source": [
        "# Browse all files in a folder\n",
        "# Programmatically rename the files according to PyTorch's convention\n"
      ]
    },
    {
      "cell_type": "code",
      "source": [
        "# File naming convention:\n",
        "# healthy1.jpg\n",
        "# healthy2.png\n",
        "# ...\n",
        "# healthy100.jpg\n",
        "# sick101.jpg\n",
        "# sick102.png\n",
        "# ...\n",
        "\n",
        "# Note that torchvision's read_image supports only JPEG and PNG formats."
      ],
      "metadata": {
        "id": "L3VTB9GexoDw"
      },
      "execution_count": null,
      "outputs": []
    },
    {
      "cell_type": "code",
      "execution_count": null,
      "metadata": {
        "colab": {
          "base_uri": "https://localhost:8080/"
        },
        "id": "RWSJpsyKqHjH",
        "outputId": "0872db01-1d51-4087-ca57-d85e9893ba1d"
      },
      "outputs": [
        {
          "output_type": "stream",
          "name": "stdout",
          "text": [
            "Mounted at /content/drive\n"
          ]
        }
      ],
      "source": [
        "from google.colab import drive\n",
        "drive.mount('/content/drive')"
      ]
    },
    {
      "cell_type": "code",
      "source": [
        "from os import listdir\n",
        "from os.path import isfile, join"
      ],
      "metadata": {
        "id": "1uRMRTt5vA51"
      },
      "execution_count": null,
      "outputs": []
    },
    {
      "cell_type": "code",
      "source": [
        "from os import walk, rename\n",
        "\n",
        "def rename_data_files(path, prefix, starting_index):\n",
        "  '''\n",
        "  Walk through all files in a given path, \n",
        "  rename them according to the PyTorch convention, \n",
        "  and then rename the files and also move them to the parent directory.\n",
        "  '''\n",
        "  index = starting_index\n",
        "  for (dirpath, dirnames, filenames) in walk(path):\n",
        "    for name in filenames:\n",
        "      _, file_extension = os.path.splitext(name)\n",
        "      old = join(dirpath, name)\n",
        "      new = join(os.path.dirname(dirpath), prefix + str(index) + file_extension)\n",
        "      rename(old, new)\n",
        "      index += 1\n",
        "  return index"
      ],
      "metadata": {
        "id": "6l6ZhOasxohk"
      },
      "execution_count": null,
      "outputs": []
    },
    {
      "cell_type": "code",
      "source": [
        "sick_path = '/content/drive/MyDrive/pig pics cleaned/sick pigs'\n",
        "current_index = rename_data_files(sick_path, \"ill\", current_index)"
      ],
      "metadata": {
        "id": "OWkUwpKi4euL"
      },
      "execution_count": null,
      "outputs": []
    },
    {
      "cell_type": "code",
      "source": [
        "\n",
        "\n",
        "\n",
        "healthy_path = '/content/drive/MyDrive/pig picscleaned/normal pigs'\n",
        "current_index = rename_data_files(healthy_path, \"healthy\", 1)"
      ],
      "metadata": {
        "id": "2zC__qAi0pTo"
      },
      "execution_count": null,
      "outputs": []
    },
    {
      "cell_type": "code",
      "source": [
        ""
      ],
      "metadata": {
        "id": "4_CdOayek7gs"
      },
      "execution_count": null,
      "outputs": []
    },
    {
      "cell_type": "code",
      "source": [
        "# Check if all images are jpg\n",
        "from os import walk, rename\n",
        "\n",
        "def verify_data_files(path):\n",
        "  '''\n",
        "  Walk through all files in a given path, \n",
        "  rename them according to the PyTorch convention, \n",
        "  and then rename the files and also move them to the parent directory.\n",
        "  '''\n",
        "  for (dirpath, dirnames, filenames) in walk(path):\n",
        "    for name in filenames:\n",
        "      name_suffix = name[-3:]\n",
        "      if name_suffix != \"jpg\":\n",
        "        print(name)\n",
        "        prefix, file_extension = os.path.splitext(name)\n",
        "        old = join(dirpath, name)\n",
        "        new = join(dirpath, prefix + \".jpg\")\n",
        "        rename(old, new) \n"
      ],
      "metadata": {
        "id": "AkwguLWcV0Ws"
      },
      "execution_count": null,
      "outputs": []
    },
    {
      "cell_type": "code",
      "source": [
        "cleaned_pig_path=\"/content/drive/MyDrive/Ai builders/pig pics cleaned\"\n",
        "verify_data_files(cleaned_pig_path)"
      ],
      "metadata": {
        "id": "HHdq-_DTlHuq"
      },
      "execution_count": null,
      "outputs": []
    },
    {
      "cell_type": "code",
      "source": [
        ""
      ],
      "metadata": {
        "id": "SBDUUWoBnT20"
      },
      "execution_count": null,
      "outputs": []
    }
  ]
}